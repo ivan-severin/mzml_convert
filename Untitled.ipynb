{
 "cells": [
  {
   "cell_type": "code",
   "execution_count": 1,
   "id": "43a5dbb0",
   "metadata": {},
   "outputs": [],
   "source": [
    "import pyopenms as ms\n",
    "from tools import *\n",
    "import matplotlib.pyplot as plt\n",
    "# %matplotlib inline"
   ]
  },
  {
   "cell_type": "code",
   "execution_count": 2,
   "id": "bbe108fb",
   "metadata": {},
   "outputs": [],
   "source": [
    "\n",
    "mzml_file=\"data/covert/KB20221007-1-05.mzML\""
   ]
  },
  {
   "cell_type": "code",
   "execution_count": 3,
   "id": "a708dcfe",
   "metadata": {},
   "outputs": [],
   "source": [
    "exp = ms.MSExperiment()\n",
    "ms.MzMLFile().load(mzml_file, exp)\n",
    "exp_centroid = make_centroid(exp)\n",
    "# exp_baseline = baseline(exp_centroid)\n",
    "exp_peaks = peaks(exp_centroid, thres=0.3)"
   ]
  },
  {
   "cell_type": "code",
   "execution_count": 4,
   "id": "28ebf30a",
   "metadata": {},
   "outputs": [],
   "source": [
    "# Imports for JupyterLite\n",
    "try:\n",
    "    import piplite\n",
    "    await piplite.install(['ipywidgets'])\n",
    "except ImportError:\n",
    "    pass\n"
   ]
  },
  {
   "cell_type": "code",
   "execution_count": 5,
   "id": "1b396f76",
   "metadata": {},
   "outputs": [],
   "source": [
    "import ipywidgets as widgets"
   ]
  },
  {
   "cell_type": "code",
   "execution_count": 6,
   "id": "cdcdf2ec",
   "metadata": {},
   "outputs": [
    {
     "data": {
      "application/vnd.jupyter.widget-view+json": {
       "model_id": "cbb886be13404ceebb9472ee4dfa59fb",
       "version_major": 2,
       "version_minor": 0
      },
      "text/plain": [
       "interactive(children=(IntSlider(value=0, description='index', max=178), Output()), _dom_classes=('widget-inter…"
      ]
     },
     "metadata": {},
     "output_type": "display_data"
    },
    {
     "data": {
      "text/plain": [
       "<function __main__.update(index)>"
      ]
     },
     "execution_count": 6,
     "metadata": {},
     "output_type": "execute_result"
    }
   ],
   "source": [
    "\n",
    "def get_spectr(exp, index):\n",
    "    spectrum = exp.getSpectra()[index]\n",
    "    mz, i = spectrum.get_peaks()\n",
    "    return mz, i\n",
    "\n",
    "\n",
    "def update(index):\n",
    "    \n",
    "    plt.plot(*get_spectr(exp_centroid, index))\n",
    "#     plt.plot(*get_spectr(exp_baseline, index))\n",
    "    for mz, i in zip(*get_spectr(exp_peaks, index)):\n",
    "        plt.text(mz, i, \" {:.1f}\".format(mz))\n",
    "        print(\"mz: {:.2f}\".format(mz))\n",
    "    plt.scatter(*get_spectr(exp_peaks, index), marker='+', color='r')\n",
    "    \n",
    "    spectrum = exp_centroid.getSpectra()[index]\n",
    "    title = ''\n",
    "    if spectrum.getRT() >= 0:\n",
    "        title += 'RT: {:.2f}s'.format(spectrum.getRT())\n",
    "#     if len(spectrum.getPrecursors()) >= 1:\n",
    "#         title += '   Precursor m/z: ' + str(spectrum.getPrecursors()[0].getMZ())\n",
    "\n",
    "    plt.title(title)\n",
    "    plt.ylabel('intensity')\n",
    "    plt.xlabel('m/z')\n",
    "    plt.ylim(bottom=0)\n",
    "#     plt.legend()\n",
    "\n",
    "slider_max = len(exp_centroid.getSpectra()) - 1\n",
    "widgets.interact(update, index=widgets.IntSlider(min=0, max=slider_max))\n"
   ]
  },
  {
   "cell_type": "code",
   "execution_count": 7,
   "id": "dfded5a1",
   "metadata": {},
   "outputs": [],
   "source": [
    "mzml_blank_file=\"data/covert/KB20221007-1-03.mzML\"\n",
    "mzml_sample_file=\"data/covert/KB20221007-1-05.mzML\"\n",
    "\n",
    "exp_blank = ms.MSExperiment()\n",
    "ms.MzMLFile().load(mzml_blank_file, exp_blank)\n",
    "    "
   ]
  },
  {
   "cell_type": "code",
   "execution_count": 8,
   "id": "d353f4ef",
   "metadata": {},
   "outputs": [],
   "source": []
  },
  {
   "cell_type": "code",
   "execution_count": 9,
   "id": "b55010dc",
   "metadata": {},
   "outputs": [],
   "source": [
    "get_integral_spectrum(exp_blank)\n"
   ]
  },
  {
   "cell_type": "code",
   "execution_count": null,
   "id": "cd9e4fc4",
   "metadata": {},
   "outputs": [],
   "source": []
  }
 ],
 "metadata": {
  "kernelspec": {
   "display_name": "Python 3 (ipykernel)",
   "language": "python",
   "name": "python3"
  },
  "language_info": {
   "codemirror_mode": {
    "name": "ipython",
    "version": 3
   },
   "file_extension": ".py",
   "mimetype": "text/x-python",
   "name": "python",
   "nbconvert_exporter": "python",
   "pygments_lexer": "ipython3",
   "version": "3.9.15"
  }
 },
 "nbformat": 4,
 "nbformat_minor": 5
}
